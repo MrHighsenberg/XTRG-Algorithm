{
 "cells": [
  {
   "cell_type": "markdown",
   "id": "2b48eb66",
   "metadata": {
    "vscode": {
     "languageId": "julia"
    }
   },
   "source": [
    "## Implementation Workflow"
   ]
  },
  {
   "cell_type": "markdown",
   "id": "c6d4c5bf",
   "metadata": {},
   "source": [
    "##### ■ Remaining Tasks\n",
    "\n",
    "- Check where we have whether we have to care about canonicalization in the function `XTRG update` (is the form preserved?)\n",
    "- maybe need to adjust the `square_mpo` function\n"
   ]
  }
 ],
 "metadata": {
  "kernelspec": {
   "display_name": "Julia 1.11.5",
   "language": "julia",
   "name": "julia-1.11"
  },
  "language_info": {
   "file_extension": ".jl",
   "mimetype": "application/julia",
   "name": "julia",
   "version": "1.11.5"
  }
 },
 "nbformat": 4,
 "nbformat_minor": 5
}
