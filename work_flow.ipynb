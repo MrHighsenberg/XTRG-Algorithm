{
 "cells": [
  {
   "cell_type": "markdown",
   "id": "2b48eb66",
   "metadata": {
    "vscode": {
     "languageId": "julia"
    }
   },
   "source": [
    "## Implementation Workflow"
   ]
  },
  {
   "cell_type": "markdown",
   "id": "33dde37a",
   "metadata": {
    "vscode": {
     "languageId": "julia"
    }
   },
   "source": [
    "##### ■ Step 1: Canonicalization of the MPO (Damiano)\n",
    "\n",
    "- Understand the canonical forms for MPOs as presented in the paper of Parker et al.\n",
    "- Design a powerpoint slide with the definitions and corresponding graphical notations.\n",
    "- Explain the algorithm needed how to bring a generic MPO into the respective forms.\n",
    "- Implement a function which brings an MPO into specific two-site canonical form as needed in our algorithm."
   ]
  },
  {
   "cell_type": "code",
   "execution_count": null,
   "id": "568af90d",
   "metadata": {},
   "outputs": [],
   "source": [
    "\"\"\"\n",
    "    site_canonicalize(mpo::Vector, center::Int)\n",
    "\n",
    "Algorithm bringing a given MPO into the two-site canonical form with orthogonality center at sites (center, center+1).\n",
    "\n",
    "Input:\n",
    "- `mpo::Vector`: List of the local tensors of MPO to be canonicalized\n",
    "- `center::Int`: Index of the orthogonality center located at site (center, center+1)\n",
    "\n",
    "Output:\n",
    "- `mpo_canonical::Vector`: List of canonicalized local tensors of the input MPO\n",
    "\"\"\"\n",
    "function site_canonicalize(mpo::Vector, center::Int)\n",
    "\n",
    "end"
   ]
  },
  {
   "cell_type": "markdown",
   "id": "f2fa4a47",
   "metadata": {
    "vscode": {
     "languageId": "julia"
    }
   },
   "source": [
    "##### ■ Step 2: Efficient implementation of the sweeps (Matthias)\n",
    "\n",
    "- The `XTRG_step` function should update $\\rho(\\beta)$ to $\\rho(2 \\beta)$ if possible and otherwise throw an error which aborts the simulation.\n",
    "- After a number of `Nsweeps` iterations, the overlap $||\\rho(2\\beta)- \\rho_{\\text{opt}}(2\\beta)||_F^2$ is computed to check whether the optimization has sufficiently converged as specified by the `tolerance` value. \n",
    "- Compute the inner product of the $\\rho(2\\beta)_{\\text{diff}}$ operator while carefully performing the correct trace. The function should print a message to track that the result is still compatible with the `tolerance`. In this way, be can later adjust the number of `Nsweeps` that is appropriate for our simulation purposes.\n",
    "- At the beginning of the step, we left-canonicalize with `leftcanonicalmpo` from MPO.jl\n",
    "- As we work with canonicalized MPOs, the result of contraction in Fig. 17a of Appendix D in the main paper is exactly the optimal two-site tensor. Applying the SVD on this tensor, we easily obtain the new tensors $C_i$ and $C_{i+1}$ to update our state $\\rho(2\\beta)$.\n",
    "- To start the sweeping it may be advantageous to compute all the left environments in advance. (Damiano agrees!) In the process of sweeping from right to left, we may then delete one left environment in the environment array `Envs` and replace it with the new right environment step by step. This should be similar to the data structure in the 2-site DMRG algorithm.  There, in particular, `Hlr[l + 1]` contains the left/right environment tensor relative to site `l` when the algorithm/sweeping is working at a couple of site that are on the right/left of site `l`, respectively (watch the indices!)\n",
    "- Following the 2-site DMRG algorithm, i.e. the implementation/indexing/... of `DMRG_2site`, is a good idea also for implementing the sweeps. There, the sweeping works like this: <br>\n",
    "-- Start a for cycle with the index `itS = (1:Nsweeps)` <br>\n",
    "-- RIGHT TO LEFT SWEEP: `for itL = (L:-1:2)`, update as in appendix D of main ref. `mpo2[itL-1]` and `mpo2[itL]`. This involves `Vlr[itL-1]` as left environment $V_L$ and `Vlr[itL + 2]` as right environment $V_R$. It also involves an SVD to get `mpo2[itL-1]` and `mpo2[itL]` out of the 2-site optimized tensor ($C_i C_{i+1}$ in the paper). In particular, the updated `mpo2[itL]` must be an \"MPO-right isometry\", so that the updated `mpo2`  will be \"MPO-site canonical\" with new isometry center at site `itL - 1`. After that, update `Vlr[itL + 1]` using `updateLeft_mod` (and an index permutation since we are \"updating leftwards\")<br>\n",
    "-- LEFT TO RIGHT SWEEP: similar to above: `for itL = (1:L-1)`, update `mpo2[itL]` and `mpo2[itL+1]` using `Vlr[itL] ` and `Vlr[itL + 3]`. Then update `Vlr[itL + 1]` using `updateLeft_mod`<br>\n",
    "-- end of cycle with index itS\n",
    "- Understand how contracting the SVD decomposed tensors preserves the site-canonical form of the MPO for subsequent updates."
   ]
  },
  {
   "cell_type": "code",
   "execution_count": null,
   "id": "19f0f1b3",
   "metadata": {},
   "outputs": [],
   "source": [
    "\"\"\"\n",
    "    XTRG_step(rho::Vector, beta::Float64, mode::Bool, Nsweeps::Int, tolerance:Float64)\n",
    "\n",
    "Function performing a single update of the XTRG algorithm from inverse temperatures beta ---> 2*beta\n",
    "\n",
    "Input:\n",
    "- `rho::Vector`: List of the (canonicalized) local tensors of the MPO corresponding to the quantum state at inverse temperature beta.\n",
    "- `beta::Float64`: Current inverse temperature of the input state rho.\n",
    "- `square::Bool`: If boolean is true initialize the updated rho as the square of rho\n",
    "- `Nsweeps::Int`: Number of sweeps performed in the variational DMRG-type optimization along one direction of the chain.\n",
    "- `tolerance:Float64`: Threshold value for which the locally optimized tensor rho_new is assumed converged.\n",
    "\n",
    "Output:\n",
    "- `rho_new::Vector`: List of (canonicalized) local tensors of the MPO corresponding to the quantum state at inverse temperature 2*beta.\n",
    "- `beta::Float64`: Increased inverse temperature 2*beta for the state rho_new. \n",
    "\"\"\"\n",
    "function XTRG_step(rho::Vector, beta::Float64, square::Bool, Nsweeps::Int=5, tolerance::Float64=1e-10)\n",
    "\n",
    "    beta += beta\n",
    "\n",
    "    # Choose initialization mode\n",
    "    if square == true\n",
    "        rho_init = square_mpo(rho)\n",
    "    else\n",
    "        rho_init = rho\n",
    "\n",
    "    rho2 = deepcopy(rho_init)\n",
    "    # Here comes the variational DMRG-type sweeping using the above methods modifying rho_new in place\n",
    "    # \n",
    "    # \n",
    "    # \n",
    "    # \n",
    "\n",
    "    # Evaluate whether the optimization has sufficiently converged\n",
    "    rho2_diff = add_mpo(rho2, [-rho2_new[1], rho2_new[2:end]])\n",
    "\n",
    "    return rho2_new, beta\n",
    "\n",
    "end"
   ]
  },
  {
   "cell_type": "markdown",
   "id": "56caab13",
   "metadata": {
    "vscode": {
     "languageId": "julia"
    }
   },
   "source": [
    "##### ■ Step 3: Assembling the XTRG Algorithm\n",
    "\n",
    "- This function should implement a dictionary associating the modeled inverse temperatures $\\beta$ with the corresponding quantum states $\\rho(\\beta)$.\n",
    "- It should coordinate the calls to the `XTRG_step` function and abort the simulation if the `XTRG_step` function does not return a new  state."
   ]
  },
  {
   "cell_type": "code",
   "execution_count": null,
   "id": "cb1ee725",
   "metadata": {},
   "outputs": [],
   "source": [
    "\"\"\"\n",
    "    XTRG_algorithm(L::Int, beta0::Float64, betamax::Float64)\n",
    "\n",
    "Function executing the XTRG algorithm to simulate the XY-Hamiltonian for a spin-1/2 system over a given temperature range.\n",
    "\n",
    "Input:\n",
    "- `L::Int`: length of the one-dimensional spin-1/2 system.\n",
    "- `beta0::Float64`: initial inverse temperature to start the XTRG algorithm.\n",
    "- `betamax::Float64`: maximal inverse temperature at which the XTRG algorithm is stopped.\n",
    "\n",
    "Output:\n",
    "- `res::Dict{Float64, Vector{Array{ComplexF64, 4}}}`\n",
    "\n",
    "\"\"\"\n",
    "function XTRG_algorithm(beta0::Float64, betamax::Float64)\n",
    "\n",
    "end"
   ]
  }
 ],
 "metadata": {
  "kernelspec": {
   "display_name": "Julia 1.11.5",
   "language": "julia",
   "name": "julia-1.11"
  },
  "language_info": {
   "file_extension": ".jl",
   "mimetype": "application/julia",
   "name": "julia",
   "version": "1.11.5"
  }
 },
 "nbformat": 4,
 "nbformat_minor": 5
}
