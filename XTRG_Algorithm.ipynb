{
 "cells": [
  {
   "cell_type": "markdown",
   "id": "9bef7df3",
   "metadata": {},
   "source": [
    "### Exponential Thermal Tensor Network Renormalization Group (XTRG)\n",
    "\n",
    "Date: <span style = \"color: wheat\"> 23.07.2025 </span> | Author of the code: <span style = \"color: wheat\"> Matthias Pawlik, Damiano Aliverti </span>"
   ]
  },
  {
   "cell_type": "markdown",
   "id": "88f9df4b",
   "metadata": {},
   "source": [
    "The Exponential Tensor Renormalization Group (XTRG) is a powerful numerical method for computing the thermal density matrix $\\hat{\\rho} = e^{− \\beta \\hat{H}}$ of finite-size quantum systems, where $\\beta$ is the inverse temperature and $\\hat{H}$ is the many-body Hamiltonian. In this problem, you will implement the XTRG algorithm and use it to compute the partition function of a one-dimensional ($1\\text{D}$) XY model from high temperatures ($\\beta \\sim 10^{−6}$) down to low temperatures ($\\beta \\sim 1$).\n",
    "\n",
    "<span style = \"color: wheat\"> [1]  </span> B.-B. Chen, L. Chen, Z. Chen, W. Li, and A. Weichselbaum, Phys. Rev. X 8, 031082 (2018), https://doi.org/10.1103/PhysRevX.8.031082."
   ]
  },
  {
   "cell_type": "markdown",
   "id": "0470feac",
   "metadata": {},
   "source": [
    "<span style = \"color: wheat\"> (a) </span> Initialize the thermal density matrix as a matrix product operator (MPO) using linear initialization, $\\rho(\\beta_0) \\approx \\mathbb{I} − \\beta_0 H$, as described in Appendix C.2 of Ref. [1]. Use $\\beta_0 = 10^{−6}$ as the initial inverse temperature."
   ]
  },
  {
   "cell_type": "markdown",
   "id": "d6abe8d4",
   "metadata": {},
   "source": [
    "We define the Hamiltonian of the spin-$\\frac{1}{2}$ XY-chain of length $\\mathcal{L}$ with open boundary conditions (OPC) to $\\hat{H} = J \\sum_{l = 1}^{\\mathcal{L}-1} (\\hat{S}^x_l \\hat{S}^x_{l+1} + \\hat{S}^y_l \\hat{S}^y_{l+1}) \\equiv J \\sum_{l = 1}^{\\mathcal{L}-1} (\\hat{S}^+_l \\hat{S}^-_{l+1} + \\hat{S}^-_l \\hat{S}^+_{l+1})$.\n",
    "\n",
    "<span style = \"color: SkyBlue\"> Solution: </span>"
   ]
  },
  {
   "cell_type": "code",
   "execution_count": 1,
   "id": "cb166868",
   "metadata": {},
   "outputs": [],
   "source": [
    "include(\"source/MPO.jl\")\n",
    "using .MPO"
   ]
  },
  {
   "cell_type": "code",
   "execution_count": null,
   "id": "b67b9b53",
   "metadata": {},
   "outputs": [],
   "source": [
    "function linear_initialization(L::Int, J::Float64, beta0::Float64=1e-6)\n",
    "\n",
    "    # Generate the MPO Hamiltonian for the XY-Model\n",
    "    H_mpo = xychain_mpo(L, J)\n",
    "\n",
    "    # Construct an MPO representation of the identity operator\n",
    "    Id_mpo = identity_mpo(L)\n",
    "\n",
    "    # Multiply H with inverse initial temperature\n",
    "    H_mpo = [exp(1im * pi/L) * (beta0)^(1/L) * W for W in H_mpo]\n",
    "    \n",
    "    # Add the MPOs and obtain new local tensors with bond dimension D = 4 + 1\n",
    "    rho0 = add_mpo(H_mpo, Id_mpo)\n",
    "\n",
    "    # Site-canonicalize the initial state \n",
    "    rho0 = sitecanonical(rho0)\n",
    "\n",
    "    return rho0\n",
    "\n",
    "end"
   ]
  },
  {
   "cell_type": "markdown",
   "id": "b28a3d22",
   "metadata": {},
   "source": [
    "<span style = \"color: wheat\"> (b) </span> Implement the XTRG algorithm following the strategy in Sec. II of Ref.[1]. The key idea is to\n",
    "iteratively double the inverse temperature, $\\rho(2 \\beta) = \\rho(\\beta) \\times \\rho(\\beta)$, by contracting the MPO with itself. After each multiplication, the MPO bond dimension increases and must be truncated. This can be done variationally using DMRG-type sweeping, as detailed in Appendix D of Ref. [1].\n",
    "\n",
    "<span style = \"color: SkyBlue\"> Solution: </span>"
   ]
  },
  {
   "cell_type": "code",
   "execution_count": null,
   "id": "9bd16afa",
   "metadata": {},
   "outputs": [],
   "source": [
    "function XTRG_algorithm(beta0::Float64=1e-6, betamax::Float64=1e+14, rho0::Vector)\n",
    "\n",
    "    # This function assembles the XTRG algorithm\n",
    "\n",
    "end"
   ]
  },
  {
   "cell_type": "markdown",
   "id": "dc1767f0",
   "metadata": {},
   "source": [
    "<span style = \"color: wheat\"> (c) </span> Apply your XTRG implementation to the 1D XY-model of length $L = 10$. Perform $20$ XTRG\n",
    "steps starting from $\\beta_0 = 10^{−6}$, so that the final inverse temperature is $\\beta = 2^{20} \\beta_0$. At each step, compute the partition function $Z = \\text{Tr}(\\rho(\\beta))$. Compare your numerical results with the analytical solution provided in Appendix F of Ref. [1] over the full temperature range.\n",
    "\n",
    "<span style = \"color: SkyBlue\"> Solution: </span>"
   ]
  },
  {
   "cell_type": "code",
   "execution_count": null,
   "id": "15e1de1e",
   "metadata": {},
   "outputs": [],
   "source": []
  }
 ],
 "metadata": {
  "kernelspec": {
   "display_name": "Julia 1.11.5",
   "language": "julia",
   "name": "julia-1.11"
  },
  "language_info": {
   "file_extension": ".jl",
   "mimetype": "application/julia",
   "name": "julia",
   "version": "1.11.5"
  }
 },
 "nbformat": 4,
 "nbformat_minor": 5
}
