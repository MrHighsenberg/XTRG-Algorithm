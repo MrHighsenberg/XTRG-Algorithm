{
 "cells": [
  {
   "cell_type": "markdown",
   "id": "9bef7df3",
   "metadata": {},
   "source": [
    "### Exponential Thermal Tensor Network Renormalization Group (XTRG)\n",
    "\n",
    "Date: <span style = \"color: wheat\"> 23.07.2025 </span> | Author of the code: <span style = \"color: wheat\"> Matthias Pawlik, Damiano Aliverti </span>"
   ]
  },
  {
   "cell_type": "markdown",
   "id": "88f9df4b",
   "metadata": {},
   "source": [
    "The Exponential Tensor Renormalization Group (XTRG) is a powerful numerical method for computing the thermal density matrix $\\hat{\\rho} = e^{− \\beta \\hat{H}}$ of finite-size quantum systems, where $\\beta$ is the inverse temperature and $\\hat{H}$ is the many-body Hamiltonian. In this problem, you will implement the XTRG algorithm and use it to compute the partition function of a one-dimensional ($1\\text{D}$) XY model from high temperatures ($\\beta \\sim 10^{−6}$) down to low temperatures ($\\beta \\sim 1$).\n",
    "\n",
    "<span style = \"color: wheat\"> [1]  </span> B.-B. Chen, L. Chen, Z. Chen, W. Li, and A. Weichselbaum, Phys. Rev. X 8, 031082 (2018), https://doi.org/10.1103/PhysRevX.8.031082."
   ]
  },
  {
   "cell_type": "markdown",
   "id": "0470feac",
   "metadata": {},
   "source": [
    "<span style = \"color: wheat\"> (a) </span> Initialize the thermal density matrix as a matrix product operator (MPO) using linear initialization, $\\rho(\\beta_0) \\approx \\mathbb{I} − \\beta_0 H$, as described in Appendix C.2 of Ref. [1]. Use $\\beta_0 = 10^{−6}$ as the initial inverse temperature."
   ]
  },
  {
   "cell_type": "markdown",
   "id": "d6abe8d4",
   "metadata": {},
   "source": [
    "We define the Hamiltonian of the spin-$\\frac{1}{2}$ XY-chain of length $\\mathcal{L}$ with open boundary conditions (OPC) to $\\hat{H} = J \\sum_{l = 1}^{\\mathcal{L}-1} (\\hat{S}^x_l \\hat{S}^x_{l+1} + \\hat{S}^y_l \\hat{S}^y_{l+1}) \\equiv J \\sum_{l = 1}^{\\mathcal{L}-1} (\\hat{S}^+_l \\hat{S}^-_{l+1} + \\hat{S}^-_l \\hat{S}^+_{l+1})$.\n",
    "\n",
    "<span style = \"color: SkyBlue\"> Solution: </span>"
   ]
  },
  {
   "cell_type": "code",
   "execution_count": null,
   "id": "cb166868",
   "metadata": {},
   "outputs": [],
   "source": [
    "include(\"source/MPO.jl\")\n",
    "using .MPO"
   ]
  },
  {
   "cell_type": "code",
   "execution_count": null,
   "id": "b67b9b53",
   "metadata": {},
   "outputs": [
    {
     "data": {
      "text/plain": [
       "linear_initialization (generic function with 1 method)"
      ]
     },
     "execution_count": 2,
     "metadata": {},
     "output_type": "execute_result"
    }
   ],
   "source": [
    "function linear_initialization(L::Int; J::Float64=1.0, beta0::Float64=1e-6)\n",
    "\n",
    "    # Generate the MPO Hamiltonian for the XY-Model\n",
    "    H_mpo = xychain_mpo(L, J)\n",
    "\n",
    "    # Construct an MPO representation of the identity operator\n",
    "    Id_mpo = identity_mpo(L)\n",
    "\n",
    "    # Multiply H with inverse initial temperature\n",
    "    H_mpo = [(beta0)^(-1/L) * W for W in H_mpo]\n",
    "    \n",
    "    # Add the MPOs and obtain new local tensors with bond dimension D = 4 + 1\n",
    "    rho0 = add_mpo(H_mpo, Id_mpo)\n",
    "\n",
    "    return rho0\n",
    "\n",
    "end"
   ]
  },
  {
   "cell_type": "markdown",
   "id": "b28a3d22",
   "metadata": {},
   "source": [
    "<span style = \"color: wheat\"> (b) </span> Implement the XTRG algorithm following the strategy in Sec. II of Ref.[1]. The key idea is to\n",
    "iteratively double the inverse temperature, $\\rho(2 \\beta) = \\rho(\\beta) \\times \\rho(\\beta)$, by contracting the MPO with itself. After each multiplication, the MPO bond dimension increases and must be truncated. This can be done variationally using DMRG-type sweeping, as detailed in Appendix D of Ref. [1].\n",
    "\n",
    "<span style = \"color: SkyBlue\"> Solution: </span>"
   ]
  },
  {
   "cell_type": "code",
   "execution_count": null,
   "id": "9bd16afa",
   "metadata": {},
   "outputs": [],
   "source": [
    "include(\"source/XTRG.jl\")\n",
    "using .XTRG"
   ]
  },
  {
   "cell_type": "markdown",
   "id": "dc1767f0",
   "metadata": {},
   "source": [
    "<span style = \"color: wheat\"> (c) </span> Apply your XTRG implementation to the 1D XY-model of length $L = 10$. Perform $20$ XTRG\n",
    "steps starting from $\\beta_0 = 10^{−6}$, so that the final inverse temperature is $\\beta = 2^{20} \\beta_0$. At each step, compute the partition function $Z = \\text{Tr}(\\rho(\\beta))$. Compare your numerical results with the analytical solution provided in Appendix F of Ref. [1] over the full temperature range.\n",
    "\n",
    "<span style = \"color: SkyBlue\"> Solution: </span>"
   ]
  },
  {
   "cell_type": "code",
   "execution_count": null,
   "id": "15e1de1e",
   "metadata": {},
   "outputs": [
    {
     "name": "stdout",
     "output_type": "stream",
     "text": [
      "# # # Started Variational Optimization # # #Temperature update: 1.0e-6 ---> 2.0e-6# of sites = 10 | square mode = true | # of sweeps = 5 x 2\n",
      " | convergence = 1.0e-10\n",
      "| Nkeep = 6 (Dmax = 100, alpha = 1.1) | tolerance = 1.0e-12"
     ]
    },
    {
     "ename": "LoadError",
     "evalue": "MethodError: no method matching *(::Array{ComplexF64, 4}, ::LinearAlgebra.Diagonal{Float64, Vector{Float64}})\nThe function `*` exists, but no method is defined for this combination of argument types.\n\n\u001b[0mClosest candidates are:\n\u001b[0m  *(::Any, ::Any, \u001b[91m::Any\u001b[39m, \u001b[91m::Any...\u001b[39m)\n\u001b[0m\u001b[90m   @\u001b[39m \u001b[90mBase\u001b[39m \u001b[90m\u001b[4moperators.jl:596\u001b[24m\u001b[39m\n\u001b[0m  *(\u001b[91m::LinearAlgebra.Transpose{T, <:AbstractVector} where T\u001b[39m, ::LinearAlgebra.Diagonal, \u001b[91m::AbstractVector\u001b[39m)\n\u001b[0m\u001b[90m   @\u001b[39m \u001b[36mLinearAlgebra\u001b[39m \u001b[90mC:\\Users\\MPawl\\.julia\\juliaup\\julia-1.11.6+0.x64.w64.mingw32\\share\\julia\\stdlib\\v1.11\\LinearAlgebra\\src\\\u001b[39m\u001b[90m\u001b[4mdiagonal.jl:953\u001b[24m\u001b[39m\n\u001b[0m  *(\u001b[91m::LinearAlgebra.Transpose{T, <:AbstractVector} where T\u001b[39m, ::AbstractMatrix)\n\u001b[0m\u001b[90m   @\u001b[39m \u001b[36mLinearAlgebra\u001b[39m \u001b[90mC:\\Users\\MPawl\\.julia\\juliaup\\julia-1.11.6+0.x64.w64.mingw32\\share\\julia\\stdlib\\v1.11\\LinearAlgebra\\src\\\u001b[39m\u001b[90m\u001b[4mmatmul.jl:96\u001b[24m\u001b[39m\n\u001b[0m  ...\n",
     "output_type": "error",
     "traceback": [
      "MethodError: no method matching *(::Array{ComplexF64, 4}, ::LinearAlgebra.Diagonal{Float64, Vector{Float64}})\nThe function `*` exists, but no method is defined for this combination of argument types.\n\n\u001b[0mClosest candidates are:\n\u001b[0m  *(::Any, ::Any, \u001b[91m::Any\u001b[39m, \u001b[91m::Any...\u001b[39m)\n\u001b[0m\u001b[90m   @\u001b[39m \u001b[90mBase\u001b[39m \u001b[90m\u001b[4moperators.jl:596\u001b[24m\u001b[39m\n\u001b[0m  *(\u001b[91m::LinearAlgebra.Transpose{T, <:AbstractVector} where T\u001b[39m, ::LinearAlgebra.Diagonal, \u001b[91m::AbstractVector\u001b[39m)\n\u001b[0m\u001b[90m   @\u001b[39m \u001b[36mLinearAlgebra\u001b[39m \u001b[90mC:\\Users\\MPawl\\.julia\\juliaup\\julia-1.11.6+0.x64.w64.mingw32\\share\\julia\\stdlib\\v1.11\\LinearAlgebra\\src\\\u001b[39m\u001b[90m\u001b[4mdiagonal.jl:953\u001b[24m\u001b[39m\n\u001b[0m  *(\u001b[91m::LinearAlgebra.Transpose{T, <:AbstractVector} where T\u001b[39m, ::AbstractMatrix)\n\u001b[0m\u001b[90m   @\u001b[39m \u001b[36mLinearAlgebra\u001b[39m \u001b[90mC:\\Users\\MPawl\\.julia\\juliaup\\julia-1.11.6+0.x64.w64.mingw32\\share\\julia\\stdlib\\v1.11\\LinearAlgebra\\src\\\u001b[39m\u001b[90m\u001b[4mmatmul.jl:96\u001b[24m\u001b[39m\n\u001b[0m  ...\n",
      "",
      "Stacktrace:",
      " [1] \u001b[0m\u001b[1mXTRG_update\u001b[22m\u001b[0m\u001b[1m(\u001b[22m\u001b[90mrho\u001b[39m::\u001b[0mVector\u001b[90m{Any}\u001b[39m, \u001b[90mbeta\u001b[39m::\u001b[0mFloat64; \u001b[90msquare\u001b[39m::\u001b[0mBool, \u001b[90mNsweeps\u001b[39m::\u001b[0mInt64, \u001b[90mconvergence\u001b[39m::\u001b[0mFloat64, \u001b[90malpha\u001b[39m::\u001b[0mFloat64, \u001b[90mtolerance\u001b[39m::\u001b[0mFloat64, \u001b[90mDmax\u001b[39m::\u001b[0mInt64\u001b[0m\u001b[1m)\u001b[22m",
      "\u001b[90m   @\u001b[39m \u001b[35mMain.XTRG\u001b[39m \u001b[90mc:\\Users\\MPawl\\Documents\\Studium\\#Masterstudium MQST\\2. Semester\\PH7015 Tensor Networks\\Term Project\\source\\\u001b[39m\u001b[90m\u001b[4mXTRG.jl:86\u001b[24m\u001b[39m",
      " [2] \u001b[0m\u001b[1mXTRG_update\u001b[22m",
      "\u001b[90m   @\u001b[39m \u001b[90mc:\\Users\\MPawl\\Documents\\Studium\\#Masterstudium MQST\\2. Semester\\PH7015 Tensor Networks\\Term Project\\source\\\u001b[39m\u001b[90m\u001b[4mXTRG.jl:30\u001b[24m\u001b[39m\u001b[90m [inlined]\u001b[39m",
      " [3] \u001b[0m\u001b[1mXTRG_algorithm\u001b[22m\u001b[0m\u001b[1m(\u001b[22m\u001b[90mbeta0\u001b[39m::\u001b[0mFloat64, \u001b[90mNsteps\u001b[39m::\u001b[0mInt64, \u001b[90mrho0\u001b[39m::\u001b[0mVector\u001b[90m{Any}\u001b[39m\u001b[0m\u001b[1m)\u001b[22m",
      "\u001b[90m   @\u001b[39m \u001b[35mMain.XTRG\u001b[39m \u001b[90mc:\\Users\\MPawl\\Documents\\Studium\\#Masterstudium MQST\\2. Semester\\PH7015 Tensor Networks\\Term Project\\source\\\u001b[39m\u001b[90m\u001b[4mXTRG.jl:173\u001b[24m\u001b[39m",
      " [4] top-level scope",
      "\u001b[90m   @\u001b[39m \u001b[90m\u001b[4mIn[4]:10\u001b[24m\u001b[39m"
     ]
    }
   ],
   "source": [
    "# Parameter setting\n",
    "L = 10\n",
    "beta0 = 1e-6\n",
    "Nsteps = 20\n",
    "\n",
    "# Linear initialization \n",
    "rho0 = linear_initialization(L);\n",
    "\n",
    "# Execute the XTRG Algorithm\n",
    "betas, Zs, rhos = XTRG_algorithm(beta0, Nsteps, rho0)"
   ]
  },
  {
   "cell_type": "code",
   "execution_count": 13,
   "id": "d190dc49",
   "metadata": {},
   "outputs": [
    {
     "data": {
      "text/plain": [
       "Float64"
      ]
     },
     "execution_count": 13,
     "metadata": {},
     "output_type": "execute_result"
    }
   ],
   "source": [
    "typeof(beta0)"
   ]
  },
  {
   "cell_type": "code",
   "execution_count": null,
   "id": "95c591fb",
   "metadata": {},
   "outputs": [],
   "source": [
    "# Analytical solution for the partition function of the XY-Model with OBC\n",
    "\n",
    "function partition_function_analytical(beta, L, J=1.0)\n",
    "    Z = 1.0\n",
    "    for k in 1:L\n",
    "        epsilon_k = J * cos(k * pi / (L + 1))\n",
    "        Z *= (1 + exp(-beta * epsilon_k))\n",
    "    end\n",
    "    return Z \n",
    "end"
   ]
  },
  {
   "cell_type": "code",
   "execution_count": null,
   "id": "a4fbaab8",
   "metadata": {},
   "outputs": [],
   "source": [
    "# Compute analytical values for simulated inverse temperatures\n",
    "Zs_analytical = [partition_function_analytical(beta, L) for beta in betas]\n",
    "\n",
    "# Plot partition function against inverse temperature\n",
    "plot(betas, Zs, \n",
    "     label=\"XTRG Numerical\", \n",
    "     marker=:circle, \n",
    "     markersize=4,\n",
    "     linewidth=2,\n",
    "     xscale=:log10,\n",
    "     yscale=:log10)\n",
    "\n",
    "plot!(betas, Zs_analytical, \n",
    "      label=\"Analytical\", \n",
    "      linestyle=:dash,\n",
    "      linewidth=2)\n",
    "\n",
    "xlabel!(\"Inverse temperature \\\\beta\")\n",
    "ylabel!(\"Partition Function Z(\\\\beta)\")\n",
    "title!(\"XY Model Partition Function: XTRG vs Analytical Solution\")\n",
    "legend!(:bottomleft)\n",
    "grid!(true)\n",
    "\n",
    "# Display the plot\n",
    "display(current())"
   ]
  }
 ],
 "metadata": {
  "kernelspec": {
   "display_name": "Julia 1.11.6",
   "language": "julia",
   "name": "julia-1.11"
  },
  "language_info": {
   "file_extension": ".jl",
   "mimetype": "application/julia",
   "name": "julia",
   "version": "1.11.6"
  }
 },
 "nbformat": 4,
 "nbformat_minor": 5
}
